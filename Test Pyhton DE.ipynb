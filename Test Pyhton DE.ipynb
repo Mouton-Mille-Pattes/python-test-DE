{
  "cells": [
    {
      "cell_type": "markdown",
      "metadata": {
        "nteract": {
          "transient": {
            "deleting": false
          }
        }
      },
      "source": [
        "# **I) Python et Data Engineering**\n",
        "\n",
        "**Objectif** : Réaliser un code clair et proprement structuré. Mettre en avant les éléments considérés comme essentiels pour du code utilisable dans un environnement de production. Mettre l’accent sur vos connaissances en conception de jobs de manipulation de données ainsi que les bonnes pratiques python."
      ]
    },
    {
      "cell_type": "markdown",
      "metadata": {
        "nteract": {
          "transient": {
            "deleting": false
          }
        }
      },
      "source": [
        "1. Les données\n",
        "\n",
        "Vous avez à votre disposition les 4 fichiers de données suivants :\n",
        "- **drugs.csv** : contient les noms de drugs (des médicaments) avec un id (atccode) et un nom (drug)\n",
        "- **pubmed.csv** : contient des titres d’articles PubMed (title) associés à un journal (journal) à une date donnée (date) ainsi qu’un id (id)\n",
        "- **pubmed.json** : même structure que pubmed.csv mais en format JSON\n",
        "- **clinical_trials.csv** : contient des publications scientifiques avec un titre (scientific_title), un id (id), un journal (journal) et une date (date)."
      ]
    },
    {
      "cell_type": "code",
      "execution_count": 4,
      "metadata": {
        "gather": {
          "logged": 1669651949013
        },
        "jupyter": {
          "outputs_hidden": false,
          "source_hidden": false
        },
        "nteract": {
          "transient": {
            "deleting": false
          }
        }
      },
      "outputs": [],
      "source": [
        "import pandas as pd\n",
        "\n",
        "drugs = pd.read_csv('drugs.csv')\n",
        "pubmed = pd.read_csv('pubmed.csv')\n",
        "trials = pd.read_csv('clinical_trials.csv', names=['id', 'title', 'date', 'journal'], header = 0, converters={'title': str.strip})"
      ]
    },
    {
      "cell_type": "markdown",
      "metadata": {
        "nteract": {
          "transient": {
            "deleting": false
          }
        }
      },
      "source": [
        "# 2. Le travail à réaliser\n",
        "L’objectif est de construire une data pipeline permettant de traiter les données définies dans la partie précédente afin de générer le résultat décrit dans la partie 3.\n",
        "Pour ce faire, vous devez mettre en place un projet en python organisé de la manière qui vous paraît la plus pertinente pour résoudre ce problème. Nous attendons que vous identifiiez une structure de projet et une séparation des étapes nécessaires qui permettent de mettre en évidence vos connaissances autour du développement de jobs data en python.\n",
        "\n",
        "Il faudra essayer de considérer les hypothèses de travail suivantes :\n",
        "- Certaines étapes de votre data pipeline pourraient être réutilisées par d’autres data pipelines\n",
        "- On suppose que votre travail devra être intégré dans un orchestrateur de jobs (de type DAG) par la suite, votre code et la structure choisie doivent donc favoriser cette intégration\n",
        "- Votre code doit respecter les pratiques que vous mettriez en place dans un cadre professionnel au sein d’une équipe de plusieurs personnes\n",
        "\n",
        "Nous laissons volontairement un cadre assez libre pour voir votre manière de structurer un projet, de rédiger votre code et de mettre en place les éléments qui vous semblent essentiels dans un projet d’équipe. N’hésitez pas à argumenter votre proposition et les choix que vous faites si nécessaire."
      ]
    },
    {
      "cell_type": "code",
      "execution_count": 5,
      "metadata": {
        "gather": {
          "logged": 1669651949190
        },
        "jupyter": {
          "outputs_hidden": false,
          "source_hidden": false
        },
        "nteract": {
          "transient": {
            "deleting": false
          }
        }
      },
      "outputs": [],
      "source": [
        "def removeEmptyRows(df):\n",
        "    liste = []\n",
        "    for i, row in df.iterrows():\n",
        "        if row.title == '' or row.title is None:\n",
        "            liste.append(i)\n",
        "    \n",
        "    df = df.drop(liste)\n",
        "    return df"
      ]
    },
    {
      "cell_type": "code",
      "execution_count": 6,
      "metadata": {
        "gather": {
          "logged": 1669651949329
        },
        "jupyter": {
          "outputs_hidden": false,
          "source_hidden": false
        },
        "nteract": {
          "transient": {
            "deleting": false
          }
        }
      },
      "outputs": [],
      "source": [
        "trials = removeEmptyRows(trials)"
      ]
    },
    {
      "cell_type": "code",
      "execution_count": 7,
      "metadata": {
        "gather": {
          "logged": 1669651949472
        },
        "jupyter": {
          "outputs_hidden": false,
          "source_hidden": false
        },
        "nteract": {
          "transient": {
            "deleting": false
          }
        }
      },
      "outputs": [],
      "source": [
        "def findEmptyValueDF(df, key):\n",
        "    for i, row in df.iterrows():\n",
        "        data = df[df[key] == row[key]]\n",
        "        \n",
        "        if data.shape[0] > 1:\n",
        "            for j, val in row.items():\n",
        "                if val != val:\n",
        "                    df[j][i] = data[j][data.index != i].values[0]\n",
        "\n",
        "    return df.drop_duplicates()"
      ]
    },
    {
      "cell_type": "code",
      "execution_count": 8,
      "metadata": {
        "gather": {
          "logged": 1669651949615
        },
        "jupyter": {
          "outputs_hidden": false,
          "source_hidden": false
        },
        "nteract": {
          "transient": {
            "deleting": false
          }
        }
      },
      "outputs": [],
      "source": [
        "trials = findEmptyValueDF(trials, 'title')"
      ]
    },
    {
      "cell_type": "markdown",
      "metadata": {
        "nteract": {
          "transient": {
            "deleting": false
          }
        }
      },
      "source": [
        "# 3. Data pipeline\n",
        "\n",
        "Votre data pipeline doit produire en sortie un fichier JSON qui représente un graphe de liaison entre les différents médicaments et leurs mentions respectives dans les différentes publications PubMed, les différentes publications scientifiques et enfin les journaux avec la date associée à chacune de ces mentions. La représentation ci-dessous permet de visualiser ce qui est attendu. Il peut y avoir plusieurs manières de modéliser cet output et vous pouvez justifier votre vision :\n",
        "\n",
        "Règles de gestion :\n",
        "- Un drug est considéré comme mentionné dans un article PubMed ou un essai clinique s’il est mentionné dans le titre de la publication.\n",
        "- Un drug est considéré comme mentionné par un journal s’il est mentionné dans une publication émise par ce journal."
      ]
    },
    {
      "cell_type": "code",
      "execution_count": 9,
      "metadata": {
        "gather": {
          "logged": 1669651950198
        },
        "jupyter": {
          "outputs_hidden": false,
          "source_hidden": false
        },
        "nteract": {
          "transient": {
            "deleting": false
          }
        }
      },
      "outputs": [
        {
          "data": {
            "text/plain": [
              "0    DIPHENHYDRAMINE\n",
              "1       TETRACYCLINE\n",
              "2            ETHANOL\n",
              "3           ATROPINE\n",
              "4        EPINEPHRINE\n",
              "5       ISOPRENALINE\n",
              "6      BETAMETHASONE\n",
              "Name: drug, dtype: object"
            ]
          },
          "execution_count": 9,
          "metadata": {},
          "output_type": "execute_result"
        }
      ],
      "source": [
        "source = drugs.drug\n",
        "source"
      ]
    },
    {
      "cell_type": "code",
      "execution_count": 10,
      "metadata": {
        "gather": {
          "logged": 1669658621132
        },
        "jupyter": {
          "outputs_hidden": false,
          "source_hidden": false
        },
        "nteract": {
          "transient": {
            "deleting": false
          }
        }
      },
      "outputs": [
        {
          "name": "stderr",
          "output_type": "stream",
          "text": [
            "C:\\Users\\simon\\AppData\\Local\\Temp\\ipykernel_29528\\565889426.py:4: FutureWarning: The frame.append method is deprecated and will be removed from pandas in a future version. Use pandas.concat instead.\n",
            "  target = pubmed.append(trials)\n"
          ]
        },
        {
          "data": {
            "text/html": [
              "<div>\n",
              "<style scoped>\n",
              "    .dataframe tbody tr th:only-of-type {\n",
              "        vertical-align: middle;\n",
              "    }\n",
              "\n",
              "    .dataframe tbody tr th {\n",
              "        vertical-align: top;\n",
              "    }\n",
              "\n",
              "    .dataframe thead th {\n",
              "        text-align: right;\n",
              "    }\n",
              "</style>\n",
              "<table border=\"1\" class=\"dataframe\">\n",
              "  <thead>\n",
              "    <tr style=\"text-align: right;\">\n",
              "      <th></th>\n",
              "      <th>id</th>\n",
              "      <th>title</th>\n",
              "      <th>date</th>\n",
              "      <th>journal</th>\n",
              "      <th>source</th>\n",
              "    </tr>\n",
              "  </thead>\n",
              "  <tbody>\n",
              "    <tr>\n",
              "      <th>0</th>\n",
              "      <td>1</td>\n",
              "      <td>A 44-year-old man with erythema of the face di...</td>\n",
              "      <td>01/01/2019</td>\n",
              "      <td>Journal of emergency nursing</td>\n",
              "      <td>pubmed</td>\n",
              "    </tr>\n",
              "    <tr>\n",
              "      <th>1</th>\n",
              "      <td>2</td>\n",
              "      <td>An evaluation of benadryl, pyribenzamine, and ...</td>\n",
              "      <td>01/01/2019</td>\n",
              "      <td>Journal of emergency nursing</td>\n",
              "      <td>pubmed</td>\n",
              "    </tr>\n",
              "    <tr>\n",
              "      <th>2</th>\n",
              "      <td>3</td>\n",
              "      <td>Diphenhydramine hydrochloride helps symptoms o...</td>\n",
              "      <td>02/01/2019</td>\n",
              "      <td>The Journal of pediatrics</td>\n",
              "      <td>pubmed</td>\n",
              "    </tr>\n",
              "    <tr>\n",
              "      <th>3</th>\n",
              "      <td>4</td>\n",
              "      <td>Tetracycline Resistance Patterns of Lactobacil...</td>\n",
              "      <td>01/01/2020</td>\n",
              "      <td>Journal of food protection</td>\n",
              "      <td>pubmed</td>\n",
              "    </tr>\n",
              "    <tr>\n",
              "      <th>4</th>\n",
              "      <td>5</td>\n",
              "      <td>Appositional Tetracycline bone formation rates...</td>\n",
              "      <td>02/01/2020</td>\n",
              "      <td>American journal of veterinary research</td>\n",
              "      <td>pubmed</td>\n",
              "    </tr>\n",
              "    <tr>\n",
              "      <th>5</th>\n",
              "      <td>6</td>\n",
              "      <td>Rapid reacquisition of contextual fear followi...</td>\n",
              "      <td>2020-01-01</td>\n",
              "      <td>Psychopharmacology</td>\n",
              "      <td>pubmed</td>\n",
              "    </tr>\n",
              "    <tr>\n",
              "      <th>6</th>\n",
              "      <td>7</td>\n",
              "      <td>The High Cost of Epinephrine Autoinjectors and...</td>\n",
              "      <td>01/02/2020</td>\n",
              "      <td>The journal of allergy and clinical immunology...</td>\n",
              "      <td>pubmed</td>\n",
              "    </tr>\n",
              "    <tr>\n",
              "      <th>7</th>\n",
              "      <td>8</td>\n",
              "      <td>Time to epinephrine treatment is associated wi...</td>\n",
              "      <td>01/03/2020</td>\n",
              "      <td>The journal of allergy and clinical immunology...</td>\n",
              "      <td>pubmed</td>\n",
              "    </tr>\n",
              "    <tr>\n",
              "      <th>0</th>\n",
              "      <td>NCT01967433</td>\n",
              "      <td>Use of Diphenhydramine as an Adjunctive Sedati...</td>\n",
              "      <td>1 January 2020</td>\n",
              "      <td>Journal of emergency nursing</td>\n",
              "      <td>trials</td>\n",
              "    </tr>\n",
              "    <tr>\n",
              "      <th>1</th>\n",
              "      <td>NCT04189588</td>\n",
              "      <td>Phase 2 Study IV QUZYTTIR™ (Cetirizine Hydroch...</td>\n",
              "      <td>1 January 2020</td>\n",
              "      <td>Journal of emergency nursing</td>\n",
              "      <td>trials</td>\n",
              "    </tr>\n",
              "    <tr>\n",
              "      <th>3</th>\n",
              "      <td>NCT04237091</td>\n",
              "      <td>Feasibility of a Randomized Controlled Clinica...</td>\n",
              "      <td>1 January 2020</td>\n",
              "      <td>Journal of emergency nursing</td>\n",
              "      <td>trials</td>\n",
              "    </tr>\n",
              "    <tr>\n",
              "      <th>4</th>\n",
              "      <td>NCT04153396</td>\n",
              "      <td>Preemptive Infiltration With Betamethasone and...</td>\n",
              "      <td>1 January 2020</td>\n",
              "      <td>Hôpitaux Universitaires de Genève</td>\n",
              "      <td>trials</td>\n",
              "    </tr>\n",
              "    <tr>\n",
              "      <th>5</th>\n",
              "      <td>NCT03490942</td>\n",
              "      <td>Glucagon Infusion in T1D Patients With Recurre...</td>\n",
              "      <td>25/05/2020</td>\n",
              "      <td>Journal of emergency nursing</td>\n",
              "      <td>trials</td>\n",
              "    </tr>\n",
              "    <tr>\n",
              "      <th>7</th>\n",
              "      <td>NCT04188184</td>\n",
              "      <td>Tranexamic Acid Versus Epinephrine During Expl...</td>\n",
              "      <td>27 April 2020</td>\n",
              "      <td>Journal of emergency nursing\\xc3\\x28</td>\n",
              "      <td>trials</td>\n",
              "    </tr>\n",
              "  </tbody>\n",
              "</table>\n",
              "</div>"
            ],
            "text/plain": [
              "            id                                              title  \\\n",
              "0            1  A 44-year-old man with erythema of the face di...   \n",
              "1            2  An evaluation of benadryl, pyribenzamine, and ...   \n",
              "2            3  Diphenhydramine hydrochloride helps symptoms o...   \n",
              "3            4  Tetracycline Resistance Patterns of Lactobacil...   \n",
              "4            5  Appositional Tetracycline bone formation rates...   \n",
              "5            6  Rapid reacquisition of contextual fear followi...   \n",
              "6            7  The High Cost of Epinephrine Autoinjectors and...   \n",
              "7            8  Time to epinephrine treatment is associated wi...   \n",
              "0  NCT01967433  Use of Diphenhydramine as an Adjunctive Sedati...   \n",
              "1  NCT04189588  Phase 2 Study IV QUZYTTIR™ (Cetirizine Hydroch...   \n",
              "3  NCT04237091  Feasibility of a Randomized Controlled Clinica...   \n",
              "4  NCT04153396  Preemptive Infiltration With Betamethasone and...   \n",
              "5  NCT03490942  Glucagon Infusion in T1D Patients With Recurre...   \n",
              "7  NCT04188184  Tranexamic Acid Versus Epinephrine During Expl...   \n",
              "\n",
              "             date                                            journal  source  \n",
              "0      01/01/2019                       Journal of emergency nursing  pubmed  \n",
              "1      01/01/2019                       Journal of emergency nursing  pubmed  \n",
              "2      02/01/2019                          The Journal of pediatrics  pubmed  \n",
              "3      01/01/2020                         Journal of food protection  pubmed  \n",
              "4      02/01/2020            American journal of veterinary research  pubmed  \n",
              "5      2020-01-01                                 Psychopharmacology  pubmed  \n",
              "6      01/02/2020  The journal of allergy and clinical immunology...  pubmed  \n",
              "7      01/03/2020  The journal of allergy and clinical immunology...  pubmed  \n",
              "0  1 January 2020                       Journal of emergency nursing  trials  \n",
              "1  1 January 2020                       Journal of emergency nursing  trials  \n",
              "3  1 January 2020                       Journal of emergency nursing  trials  \n",
              "4  1 January 2020                  Hôpitaux Universitaires de Genève  trials  \n",
              "5      25/05/2020                       Journal of emergency nursing  trials  \n",
              "7   27 April 2020               Journal of emergency nursing\\xc3\\x28  trials  "
            ]
          },
          "execution_count": 10,
          "metadata": {},
          "output_type": "execute_result"
        }
      ],
      "source": [
        "pubmed['source'] = 'pubmed'\n",
        "trials['source'] = 'trials'\n",
        "\n",
        "target = pubmed.append(trials)\n",
        "target"
      ]
    },
    {
      "cell_type": "code",
      "execution_count": 11,
      "metadata": {
        "gather": {
          "logged": 1669658498078
        },
        "jupyter": {
          "outputs_hidden": false,
          "source_hidden": false
        },
        "nteract": {
          "transient": {
            "deleting": false
          }
        }
      },
      "outputs": [],
      "source": [
        "def formatDate(date_string):\n",
        "    from datetime import date, datetime\n",
        "\n",
        "    try:\n",
        "        date_object = date.fromisoformat(date_string)\n",
        "    except ValueError:\n",
        "        try:\n",
        "            date_object = datetime.strptime(date_string, \"%d %B %Y\")\n",
        "        except ValueError:\n",
        "            try:\n",
        "                date_object = datetime.strptime(date_string, \"%d/%m/%Y\")\n",
        "            except ValueError:\n",
        "                return date_string\n",
        "    \n",
        "    \n",
        "    return date_object.strftime('%Y-%m-%d')"
      ]
    },
    {
      "cell_type": "code",
      "execution_count": 12,
      "metadata": {
        "gather": {
          "logged": 1669658568672
        },
        "jupyter": {
          "outputs_hidden": false,
          "source_hidden": false
        },
        "nteract": {
          "transient": {
            "deleting": false
          }
        }
      },
      "outputs": [
        {
          "data": {
            "text/html": [
              "<div>\n",
              "<style scoped>\n",
              "    .dataframe tbody tr th:only-of-type {\n",
              "        vertical-align: middle;\n",
              "    }\n",
              "\n",
              "    .dataframe tbody tr th {\n",
              "        vertical-align: top;\n",
              "    }\n",
              "\n",
              "    .dataframe thead th {\n",
              "        text-align: right;\n",
              "    }\n",
              "</style>\n",
              "<table border=\"1\" class=\"dataframe\">\n",
              "  <thead>\n",
              "    <tr style=\"text-align: right;\">\n",
              "      <th></th>\n",
              "      <th>id</th>\n",
              "      <th>title</th>\n",
              "      <th>date</th>\n",
              "      <th>journal</th>\n",
              "      <th>source</th>\n",
              "    </tr>\n",
              "  </thead>\n",
              "  <tbody>\n",
              "    <tr>\n",
              "      <th>0</th>\n",
              "      <td>1</td>\n",
              "      <td>A 44-year-old man with erythema of the face di...</td>\n",
              "      <td>2019-01-01</td>\n",
              "      <td>Journal of emergency nursing</td>\n",
              "      <td>pubmed</td>\n",
              "    </tr>\n",
              "    <tr>\n",
              "      <th>1</th>\n",
              "      <td>2</td>\n",
              "      <td>An evaluation of benadryl, pyribenzamine, and ...</td>\n",
              "      <td>2019-01-01</td>\n",
              "      <td>Journal of emergency nursing</td>\n",
              "      <td>pubmed</td>\n",
              "    </tr>\n",
              "    <tr>\n",
              "      <th>2</th>\n",
              "      <td>3</td>\n",
              "      <td>Diphenhydramine hydrochloride helps symptoms o...</td>\n",
              "      <td>2019-01-02</td>\n",
              "      <td>The Journal of pediatrics</td>\n",
              "      <td>pubmed</td>\n",
              "    </tr>\n",
              "    <tr>\n",
              "      <th>3</th>\n",
              "      <td>4</td>\n",
              "      <td>Tetracycline Resistance Patterns of Lactobacil...</td>\n",
              "      <td>2020-01-01</td>\n",
              "      <td>Journal of food protection</td>\n",
              "      <td>pubmed</td>\n",
              "    </tr>\n",
              "    <tr>\n",
              "      <th>4</th>\n",
              "      <td>5</td>\n",
              "      <td>Appositional Tetracycline bone formation rates...</td>\n",
              "      <td>2020-01-02</td>\n",
              "      <td>American journal of veterinary research</td>\n",
              "      <td>pubmed</td>\n",
              "    </tr>\n",
              "    <tr>\n",
              "      <th>5</th>\n",
              "      <td>6</td>\n",
              "      <td>Rapid reacquisition of contextual fear followi...</td>\n",
              "      <td>2020-01-01</td>\n",
              "      <td>Psychopharmacology</td>\n",
              "      <td>pubmed</td>\n",
              "    </tr>\n",
              "    <tr>\n",
              "      <th>6</th>\n",
              "      <td>7</td>\n",
              "      <td>The High Cost of Epinephrine Autoinjectors and...</td>\n",
              "      <td>2020-02-01</td>\n",
              "      <td>The journal of allergy and clinical immunology...</td>\n",
              "      <td>pubmed</td>\n",
              "    </tr>\n",
              "    <tr>\n",
              "      <th>7</th>\n",
              "      <td>8</td>\n",
              "      <td>Time to epinephrine treatment is associated wi...</td>\n",
              "      <td>2020-03-01</td>\n",
              "      <td>The journal of allergy and clinical immunology...</td>\n",
              "      <td>pubmed</td>\n",
              "    </tr>\n",
              "    <tr>\n",
              "      <th>0</th>\n",
              "      <td>NCT01967433</td>\n",
              "      <td>Use of Diphenhydramine as an Adjunctive Sedati...</td>\n",
              "      <td>2020-01-01</td>\n",
              "      <td>Journal of emergency nursing</td>\n",
              "      <td>trials</td>\n",
              "    </tr>\n",
              "    <tr>\n",
              "      <th>1</th>\n",
              "      <td>NCT04189588</td>\n",
              "      <td>Phase 2 Study IV QUZYTTIR™ (Cetirizine Hydroch...</td>\n",
              "      <td>2020-01-01</td>\n",
              "      <td>Journal of emergency nursing</td>\n",
              "      <td>trials</td>\n",
              "    </tr>\n",
              "    <tr>\n",
              "      <th>3</th>\n",
              "      <td>NCT04237091</td>\n",
              "      <td>Feasibility of a Randomized Controlled Clinica...</td>\n",
              "      <td>2020-01-01</td>\n",
              "      <td>Journal of emergency nursing</td>\n",
              "      <td>trials</td>\n",
              "    </tr>\n",
              "    <tr>\n",
              "      <th>4</th>\n",
              "      <td>NCT04153396</td>\n",
              "      <td>Preemptive Infiltration With Betamethasone and...</td>\n",
              "      <td>2020-01-01</td>\n",
              "      <td>Hôpitaux Universitaires de Genève</td>\n",
              "      <td>trials</td>\n",
              "    </tr>\n",
              "    <tr>\n",
              "      <th>5</th>\n",
              "      <td>NCT03490942</td>\n",
              "      <td>Glucagon Infusion in T1D Patients With Recurre...</td>\n",
              "      <td>2020-05-25</td>\n",
              "      <td>Journal of emergency nursing</td>\n",
              "      <td>trials</td>\n",
              "    </tr>\n",
              "    <tr>\n",
              "      <th>7</th>\n",
              "      <td>NCT04188184</td>\n",
              "      <td>Tranexamic Acid Versus Epinephrine During Expl...</td>\n",
              "      <td>2020-04-27</td>\n",
              "      <td>Journal of emergency nursing\\xc3\\x28</td>\n",
              "      <td>trials</td>\n",
              "    </tr>\n",
              "  </tbody>\n",
              "</table>\n",
              "</div>"
            ],
            "text/plain": [
              "            id                                              title        date  \\\n",
              "0            1  A 44-year-old man with erythema of the face di...  2019-01-01   \n",
              "1            2  An evaluation of benadryl, pyribenzamine, and ...  2019-01-01   \n",
              "2            3  Diphenhydramine hydrochloride helps symptoms o...  2019-01-02   \n",
              "3            4  Tetracycline Resistance Patterns of Lactobacil...  2020-01-01   \n",
              "4            5  Appositional Tetracycline bone formation rates...  2020-01-02   \n",
              "5            6  Rapid reacquisition of contextual fear followi...  2020-01-01   \n",
              "6            7  The High Cost of Epinephrine Autoinjectors and...  2020-02-01   \n",
              "7            8  Time to epinephrine treatment is associated wi...  2020-03-01   \n",
              "0  NCT01967433  Use of Diphenhydramine as an Adjunctive Sedati...  2020-01-01   \n",
              "1  NCT04189588  Phase 2 Study IV QUZYTTIR™ (Cetirizine Hydroch...  2020-01-01   \n",
              "3  NCT04237091  Feasibility of a Randomized Controlled Clinica...  2020-01-01   \n",
              "4  NCT04153396  Preemptive Infiltration With Betamethasone and...  2020-01-01   \n",
              "5  NCT03490942  Glucagon Infusion in T1D Patients With Recurre...  2020-05-25   \n",
              "7  NCT04188184  Tranexamic Acid Versus Epinephrine During Expl...  2020-04-27   \n",
              "\n",
              "                                             journal  source  \n",
              "0                       Journal of emergency nursing  pubmed  \n",
              "1                       Journal of emergency nursing  pubmed  \n",
              "2                          The Journal of pediatrics  pubmed  \n",
              "3                         Journal of food protection  pubmed  \n",
              "4            American journal of veterinary research  pubmed  \n",
              "5                                 Psychopharmacology  pubmed  \n",
              "6  The journal of allergy and clinical immunology...  pubmed  \n",
              "7  The journal of allergy and clinical immunology...  pubmed  \n",
              "0                       Journal of emergency nursing  trials  \n",
              "1                       Journal of emergency nursing  trials  \n",
              "3                       Journal of emergency nursing  trials  \n",
              "4                  Hôpitaux Universitaires de Genève  trials  \n",
              "5                       Journal of emergency nursing  trials  \n",
              "7               Journal of emergency nursing\\xc3\\x28  trials  "
            ]
          },
          "execution_count": 12,
          "metadata": {},
          "output_type": "execute_result"
        }
      ],
      "source": [
        "target.date = [formatDate(date_string) for date_string in target.date]\n",
        "target"
      ]
    },
    {
      "cell_type": "code",
      "execution_count": 13,
      "metadata": {
        "gather": {
          "logged": 1669651950810
        },
        "jupyter": {
          "outputs_hidden": false,
          "source_hidden": false
        },
        "nteract": {
          "transient": {
            "deleting": false
          }
        }
      },
      "outputs": [],
      "source": [
        "def listLiaison(source, target):\n",
        "    from re import search\n",
        "\n",
        "    liste = []\n",
        "\n",
        "    for i in source:\n",
        "        for j, row in target.iterrows():\n",
        "            match = search(i.upper(), row.title.upper())\n",
        "\n",
        "            if match:\n",
        "                liste.append({'drug' : i, 'id' : row.id, 'title' : row.title, 'date' : row.date, 'journal' : row.journal, 'source' : row.source})\n",
        "    return liste"
      ]
    },
    {
      "cell_type": "code",
      "execution_count": 14,
      "metadata": {
        "gather": {
          "logged": 1669651950953
        },
        "jupyter": {
          "outputs_hidden": false,
          "source_hidden": false
        },
        "nteract": {
          "transient": {
            "deleting": false
          }
        }
      },
      "outputs": [],
      "source": [
        "liste_match = listLiaison(source, target)"
      ]
    },
    {
      "cell_type": "code",
      "execution_count": 16,
      "metadata": {
        "gather": {
          "logged": 1669651951245
        },
        "jupyter": {
          "outputs_hidden": false,
          "source_hidden": false
        },
        "nteract": {
          "transient": {
            "deleting": false
          }
        }
      },
      "outputs": [],
      "source": [
        "import json\n",
        "\n",
        "with open('data.json', 'w') as f:\n",
        "    json.dump(liste_match, f)"
      ]
    },
    {
      "cell_type": "markdown",
      "metadata": {
        "nteract": {
          "transient": {
            "deleting": false
          }
        }
      },
      "source": [
        "# 4. Traitement ad-hoc\n",
        "\n",
        "Vous devez aussi mettre en place (hors de la data pipeline, vous pouvez considérer que c’est une partie annexe) une feature permettant de répondre à la problématique suivante :\n",
        "- Extraire depuis le json produit par la data pipeline le nom du journal qui mentionne le plus de médicaments différents ?"
      ]
    },
    {
      "cell_type": "code",
      "execution_count": 17,
      "metadata": {
        "gather": {
          "logged": 1669651951259
        },
        "jupyter": {
          "outputs_hidden": false,
          "source_hidden": false
        },
        "nteract": {
          "transient": {
            "deleting": false
          }
        }
      },
      "outputs": [],
      "source": [
        "data = pd.read_json('data.json')"
      ]
    },
    {
      "cell_type": "code",
      "execution_count": 18,
      "metadata": {
        "gather": {
          "logged": 1669651951272
        },
        "jupyter": {
          "outputs_hidden": false,
          "source_hidden": false
        },
        "nteract": {
          "transient": {
            "deleting": false
          }
        }
      },
      "outputs": [],
      "source": [
        "data_count = data.groupby('journal').drug.nunique()"
      ]
    },
    {
      "cell_type": "code",
      "execution_count": 19,
      "metadata": {
        "gather": {
          "logged": 1669651951284
        },
        "jupyter": {
          "outputs_hidden": false,
          "source_hidden": false
        },
        "nteract": {
          "transient": {
            "deleting": false
          }
        }
      },
      "outputs": [
        {
          "data": {
            "text/html": [
              "<div>\n",
              "<style scoped>\n",
              "    .dataframe tbody tr th:only-of-type {\n",
              "        vertical-align: middle;\n",
              "    }\n",
              "\n",
              "    .dataframe tbody tr th {\n",
              "        vertical-align: top;\n",
              "    }\n",
              "\n",
              "    .dataframe thead th {\n",
              "        text-align: right;\n",
              "    }\n",
              "</style>\n",
              "<table border=\"1\" class=\"dataframe\">\n",
              "  <thead>\n",
              "    <tr style=\"text-align: right;\">\n",
              "      <th></th>\n",
              "      <th>journal</th>\n",
              "      <th>nombre</th>\n",
              "    </tr>\n",
              "  </thead>\n",
              "  <tbody>\n",
              "    <tr>\n",
              "      <th>5</th>\n",
              "      <td>Psychopharmacology</td>\n",
              "      <td>2</td>\n",
              "    </tr>\n",
              "    <tr>\n",
              "      <th>0</th>\n",
              "      <td>American journal of veterinary research</td>\n",
              "      <td>1</td>\n",
              "    </tr>\n",
              "    <tr>\n",
              "      <th>1</th>\n",
              "      <td>Hôpitaux Universitaires de Genève</td>\n",
              "      <td>1</td>\n",
              "    </tr>\n",
              "    <tr>\n",
              "      <th>2</th>\n",
              "      <td>Journal of emergency nursing</td>\n",
              "      <td>1</td>\n",
              "    </tr>\n",
              "    <tr>\n",
              "      <th>3</th>\n",
              "      <td>Journal of emergency nursing\\xc3\\x28</td>\n",
              "      <td>1</td>\n",
              "    </tr>\n",
              "    <tr>\n",
              "      <th>4</th>\n",
              "      <td>Journal of food protection</td>\n",
              "      <td>1</td>\n",
              "    </tr>\n",
              "    <tr>\n",
              "      <th>6</th>\n",
              "      <td>The Journal of pediatrics</td>\n",
              "      <td>1</td>\n",
              "    </tr>\n",
              "    <tr>\n",
              "      <th>7</th>\n",
              "      <td>The journal of allergy and clinical immunology...</td>\n",
              "      <td>1</td>\n",
              "    </tr>\n",
              "  </tbody>\n",
              "</table>\n",
              "</div>"
            ],
            "text/plain": [
              "                                             journal  nombre\n",
              "5                                 Psychopharmacology       2\n",
              "0            American journal of veterinary research       1\n",
              "1                  Hôpitaux Universitaires de Genève       1\n",
              "2                       Journal of emergency nursing       1\n",
              "3               Journal of emergency nursing\\xc3\\x28       1\n",
              "4                         Journal of food protection       1\n",
              "6                          The Journal of pediatrics       1\n",
              "7  The journal of allergy and clinical immunology...       1"
            ]
          },
          "execution_count": 19,
          "metadata": {},
          "output_type": "execute_result"
        }
      ],
      "source": [
        "df_grouped = pd.DataFrame(dict(journal = data_count.index, nombre = data_count.values))\n",
        "df_grouped.sort_values(by=['nombre'], ascending=False)"
      ]
    }
  ],
  "metadata": {
    "kernel_info": {
      "name": "python38-azureml"
    },
    "kernelspec": {
      "display_name": "Python 3.11.0 64-bit",
      "language": "python",
      "name": "python3"
    },
    "language_info": {
      "codemirror_mode": {
        "name": "ipython",
        "version": 3
      },
      "file_extension": ".py",
      "mimetype": "text/x-python",
      "name": "python",
      "nbconvert_exporter": "python",
      "pygments_lexer": "ipython3",
      "version": "3.11.0"
    },
    "microsoft": {
      "host": {
        "AzureML": {
          "notebookHasBeenCompleted": true
        }
      }
    },
    "nteract": {
      "version": "nteract-front-end@1.0.0"
    },
    "vscode": {
      "interpreter": {
        "hash": "452dd2e073c1a773d93f31e13cd92dcffbc72dc379986b2ee318d5d0db07cc51"
      }
    }
  },
  "nbformat": 4,
  "nbformat_minor": 2
}
