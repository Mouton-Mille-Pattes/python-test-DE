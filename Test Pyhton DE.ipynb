{
  "cells": [
    {
      "cell_type": "markdown",
      "source": [
        "# **I) Python et Data Engineering**\r\n",
        "\r\n",
        "**Objectif** : Réaliser un code clair et proprement structuré. Mettre en avant les éléments considérés comme essentiels pour du code utilisable dans un environnement de production. Mettre l’accent sur vos connaissances en conception de jobs de manipulation de données ainsi que les bonnes pratiques python."
      ],
      "metadata": {
        "nteract": {
          "transient": {
            "deleting": false
          }
        }
      }
    },
    {
      "cell_type": "markdown",
      "source": [
        "1. Les données\r\n",
        "\r\n",
        "Vous avez à votre disposition les 4 fichiers de données suivants :\r\n",
        "- **drugs.csv** : contient les noms de drugs (des médicaments) avec un id (atccode) et un nom (drug)\r\n",
        "- **pubmed.csv** : contient des titres d’articles PubMed (title) associés à un journal (journal) à une date donnée (date) ainsi qu’un id (id)\r\n",
        "- **pubmed.json** : même structure que pubmed.csv mais en format JSON\r\n",
        "- **clinical_trials.csv** : contient des publications scientifiques avec un titre (scientific_title), un id (id), un journal (journal) et une date (date)."
      ],
      "metadata": {
        "nteract": {
          "transient": {
            "deleting": false
          }
        }
      }
    },
    {
      "cell_type": "code",
      "source": [
        "import pandas as pd\r\n",
        "\r\n",
        "drugs = pd.read_csv('drugs.csv')\r\n",
        "pubmed = pd.read_csv('pubmed.csv')\r\n",
        "trials = pd.read_csv('clinical_trials.csv', names=['id', 'title', 'date', 'journal'], header = 0, converters={'title': str.strip})"
      ],
      "outputs": [],
      "execution_count": 1,
      "metadata": {
        "jupyter": {
          "source_hidden": false,
          "outputs_hidden": false
        },
        "nteract": {
          "transient": {
            "deleting": false
          }
        },
        "gather": {
          "logged": 1669651949013
        }
      }
    },
    {
      "cell_type": "markdown",
      "source": [
        "# 2. Le travail à réaliser\r\n",
        "L’objectif est de construire une data pipeline permettant de traiter les données définies dans la partie précédente afin de générer le résultat décrit dans la partie 3.\r\n",
        "Pour ce faire, vous devez mettre en place un projet en python organisé de la manière qui vous paraît la plus pertinente pour résoudre ce problème. Nous attendons que vous identifiiez une structure de projet et une séparation des étapes nécessaires qui permettent de mettre en évidence vos connaissances autour du développement de jobs data en python.\r\n",
        "\r\n",
        "Il faudra essayer de considérer les hypothèses de travail suivantes :\r\n",
        "- Certaines étapes de votre data pipeline pourraient être réutilisées par d’autres data pipelines\r\n",
        "- On suppose que votre travail devra être intégré dans un orchestrateur de jobs (de type DAG) par la suite, votre code et la structure choisie doivent donc favoriser cette intégration\r\n",
        "- Votre code doit respecter les pratiques que vous mettriez en place dans un cadre professionnel au sein d’une équipe de plusieurs personnes\r\n",
        "\r\n",
        "Nous laissons volontairement un cadre assez libre pour voir votre manière de structurer un projet, de rédiger votre code et de mettre en place les éléments qui vous semblent essentiels dans un projet d’équipe. N’hésitez pas à argumenter votre proposition et les choix que vous faites si nécessaire."
      ],
      "metadata": {
        "nteract": {
          "transient": {
            "deleting": false
          }
        }
      }
    },
    {
      "cell_type": "code",
      "source": [
        "def removeEmptyRows(df):\r\n",
        "    liste = []\r\n",
        "    for i, row in df.iterrows():\r\n",
        "        if row.title == '' or row.title is None:\r\n",
        "            liste.append(i)\r\n",
        "    \r\n",
        "    df = df.drop(liste)\r\n",
        "    return df"
      ],
      "outputs": [],
      "execution_count": 2,
      "metadata": {
        "jupyter": {
          "source_hidden": false,
          "outputs_hidden": false
        },
        "nteract": {
          "transient": {
            "deleting": false
          }
        },
        "gather": {
          "logged": 1669651949190
        }
      }
    },
    {
      "cell_type": "code",
      "source": [
        "trials = removeEmptyRows(trials)"
      ],
      "outputs": [],
      "execution_count": 3,
      "metadata": {
        "jupyter": {
          "source_hidden": false,
          "outputs_hidden": false
        },
        "nteract": {
          "transient": {
            "deleting": false
          }
        },
        "gather": {
          "logged": 1669651949329
        }
      }
    },
    {
      "cell_type": "code",
      "source": [
        "def findEmptyValueDF(df, key):\r\n",
        "    for i, row in df.iterrows():\r\n",
        "        data = df[df[key] == row[key]]\r\n",
        "        \r\n",
        "        if data.shape[0] > 1:\r\n",
        "            for j, val in row.items():\r\n",
        "                if val != val:\r\n",
        "                    df[j][i] = data[j][data.index != i].values[0]\r\n",
        "\r\n",
        "    return df.drop_duplicates()"
      ],
      "outputs": [],
      "execution_count": 4,
      "metadata": {
        "jupyter": {
          "source_hidden": false,
          "outputs_hidden": false
        },
        "nteract": {
          "transient": {
            "deleting": false
          }
        },
        "gather": {
          "logged": 1669651949472
        }
      }
    },
    {
      "cell_type": "code",
      "source": [
        "trials = findEmptyValueDF(trials, 'title')"
      ],
      "outputs": [],
      "execution_count": 5,
      "metadata": {
        "jupyter": {
          "source_hidden": false,
          "outputs_hidden": false
        },
        "nteract": {
          "transient": {
            "deleting": false
          }
        },
        "gather": {
          "logged": 1669651949615
        }
      }
    },
    {
      "cell_type": "markdown",
      "source": [
        "# 3. Data pipeline\r\n",
        "\r\n",
        "Votre data pipeline doit produire en sortie un fichier JSON qui représente un graphe de liaison entre les différents médicaments et leurs mentions respectives dans les différentes publications PubMed, les différentes publications scientifiques et enfin les journaux avec la date associée à chacune de ces mentions. La représentation ci-dessous permet de visualiser ce qui est attendu. Il peut y avoir plusieurs manières de modéliser cet output et vous pouvez justifier votre vision :\r\n",
        "\r\n",
        "Règles de gestion :\r\n",
        "- Un drug est considéré comme mentionné dans un article PubMed ou un essai clinique s’il est mentionné dans le titre de la publication.\r\n",
        "- Un drug est considéré comme mentionné par un journal s’il est mentionné dans une publication émise par ce journal."
      ],
      "metadata": {
        "nteract": {
          "transient": {
            "deleting": false
          }
        }
      }
    },
    {
      "cell_type": "code",
      "source": [
        "source = drugs.drug\r\n",
        "source"
      ],
      "outputs": [
        {
          "output_type": "execute_result",
          "execution_count": 7,
          "data": {
            "text/plain": "0    DIPHENHYDRAMINE\n1       TETRACYCLINE\n2            ETHANOL\n3           ATROPINE\n4        EPINEPHRINE\n5       ISOPRENALINE\n6      BETAMETHASONE\nName: drug, dtype: object"
          },
          "metadata": {}
        }
      ],
      "execution_count": 7,
      "metadata": {
        "jupyter": {
          "source_hidden": false,
          "outputs_hidden": false
        },
        "nteract": {
          "transient": {
            "deleting": false
          }
        },
        "gather": {
          "logged": 1669651950198
        }
      }
    },
    {
      "cell_type": "code",
      "source": [
        "pubmed['source'] = 'pubmed'"
      ],
      "outputs": [],
      "execution_count": 8,
      "metadata": {
        "jupyter": {
          "source_hidden": false,
          "outputs_hidden": false
        },
        "nteract": {
          "transient": {
            "deleting": false
          }
        },
        "gather": {
          "logged": 1669651950355
        }
      }
    },
    {
      "cell_type": "code",
      "source": [
        "trials['source'] = 'trials'"
      ],
      "outputs": [],
      "execution_count": 9,
      "metadata": {
        "jupyter": {
          "source_hidden": false,
          "outputs_hidden": false
        },
        "nteract": {
          "transient": {
            "deleting": false
          }
        },
        "gather": {
          "logged": 1669651950500
        }
      }
    },
    {
      "cell_type": "code",
      "source": [
        "target = pubmed.append(trials)\r\n",
        "target"
      ],
      "outputs": [
        {
          "output_type": "execute_result",
          "execution_count": 10,
          "data": {
            "text/plain": "            id                                              title  \\\n0            1  A 44-year-old man with erythema of the face di...   \n1            2  An evaluation of benadryl, pyribenzamine, and ...   \n2            3  Diphenhydramine hydrochloride helps symptoms o...   \n3            4  Tetracycline Resistance Patterns of Lactobacil...   \n4            5  Appositional Tetracycline bone formation rates...   \n5            6  Rapid reacquisition of contextual fear followi...   \n6            7  The High Cost of Epinephrine Autoinjectors and...   \n7            8  Time to epinephrine treatment is associated wi...   \n0  NCT01967433  Use of Diphenhydramine as an Adjunctive Sedati...   \n1  NCT04189588  Phase 2 Study IV QUZYTTIR™ (Cetirizine Hydroch...   \n3  NCT04237091  Feasibility of a Randomized Controlled Clinica...   \n4  NCT04153396  Preemptive Infiltration With Betamethasone and...   \n5  NCT03490942  Glucagon Infusion in T1D Patients With Recurre...   \n7  NCT04188184  Tranexamic Acid Versus Epinephrine During Expl...   \n\n             date                                            journal  source  \n0      01/01/2019                       Journal of emergency nursing  pubmed  \n1      01/01/2019                       Journal of emergency nursing  pubmed  \n2      02/01/2019                          The Journal of pediatrics  pubmed  \n3      01/01/2020                         Journal of food protection  pubmed  \n4      02/01/2020            American journal of veterinary research  pubmed  \n5      2020-01-01                                 Psychopharmacology  pubmed  \n6      01/02/2020  The journal of allergy and clinical immunology...  pubmed  \n7      01/03/2020  The journal of allergy and clinical immunology...  pubmed  \n0  1 January 2020                       Journal of emergency nursing  trials  \n1  1 January 2020                       Journal of emergency nursing  trials  \n3  1 January 2020                       Journal of emergency nursing  trials  \n4  1 January 2020                  Hôpitaux Universitaires de Genève  trials  \n5      25/05/2020                       Journal of emergency nursing  trials  \n7   27 April 2020               Journal of emergency nursing\\xc3\\x28  trials  ",
            "text/html": "<div>\n<style scoped>\n    .dataframe tbody tr th:only-of-type {\n        vertical-align: middle;\n    }\n\n    .dataframe tbody tr th {\n        vertical-align: top;\n    }\n\n    .dataframe thead th {\n        text-align: right;\n    }\n</style>\n<table border=\"1\" class=\"dataframe\">\n  <thead>\n    <tr style=\"text-align: right;\">\n      <th></th>\n      <th>id</th>\n      <th>title</th>\n      <th>date</th>\n      <th>journal</th>\n      <th>source</th>\n    </tr>\n  </thead>\n  <tbody>\n    <tr>\n      <th>0</th>\n      <td>1</td>\n      <td>A 44-year-old man with erythema of the face di...</td>\n      <td>01/01/2019</td>\n      <td>Journal of emergency nursing</td>\n      <td>pubmed</td>\n    </tr>\n    <tr>\n      <th>1</th>\n      <td>2</td>\n      <td>An evaluation of benadryl, pyribenzamine, and ...</td>\n      <td>01/01/2019</td>\n      <td>Journal of emergency nursing</td>\n      <td>pubmed</td>\n    </tr>\n    <tr>\n      <th>2</th>\n      <td>3</td>\n      <td>Diphenhydramine hydrochloride helps symptoms o...</td>\n      <td>02/01/2019</td>\n      <td>The Journal of pediatrics</td>\n      <td>pubmed</td>\n    </tr>\n    <tr>\n      <th>3</th>\n      <td>4</td>\n      <td>Tetracycline Resistance Patterns of Lactobacil...</td>\n      <td>01/01/2020</td>\n      <td>Journal of food protection</td>\n      <td>pubmed</td>\n    </tr>\n    <tr>\n      <th>4</th>\n      <td>5</td>\n      <td>Appositional Tetracycline bone formation rates...</td>\n      <td>02/01/2020</td>\n      <td>American journal of veterinary research</td>\n      <td>pubmed</td>\n    </tr>\n    <tr>\n      <th>5</th>\n      <td>6</td>\n      <td>Rapid reacquisition of contextual fear followi...</td>\n      <td>2020-01-01</td>\n      <td>Psychopharmacology</td>\n      <td>pubmed</td>\n    </tr>\n    <tr>\n      <th>6</th>\n      <td>7</td>\n      <td>The High Cost of Epinephrine Autoinjectors and...</td>\n      <td>01/02/2020</td>\n      <td>The journal of allergy and clinical immunology...</td>\n      <td>pubmed</td>\n    </tr>\n    <tr>\n      <th>7</th>\n      <td>8</td>\n      <td>Time to epinephrine treatment is associated wi...</td>\n      <td>01/03/2020</td>\n      <td>The journal of allergy and clinical immunology...</td>\n      <td>pubmed</td>\n    </tr>\n    <tr>\n      <th>0</th>\n      <td>NCT01967433</td>\n      <td>Use of Diphenhydramine as an Adjunctive Sedati...</td>\n      <td>1 January 2020</td>\n      <td>Journal of emergency nursing</td>\n      <td>trials</td>\n    </tr>\n    <tr>\n      <th>1</th>\n      <td>NCT04189588</td>\n      <td>Phase 2 Study IV QUZYTTIR™ (Cetirizine Hydroch...</td>\n      <td>1 January 2020</td>\n      <td>Journal of emergency nursing</td>\n      <td>trials</td>\n    </tr>\n    <tr>\n      <th>3</th>\n      <td>NCT04237091</td>\n      <td>Feasibility of a Randomized Controlled Clinica...</td>\n      <td>1 January 2020</td>\n      <td>Journal of emergency nursing</td>\n      <td>trials</td>\n    </tr>\n    <tr>\n      <th>4</th>\n      <td>NCT04153396</td>\n      <td>Preemptive Infiltration With Betamethasone and...</td>\n      <td>1 January 2020</td>\n      <td>Hôpitaux Universitaires de Genève</td>\n      <td>trials</td>\n    </tr>\n    <tr>\n      <th>5</th>\n      <td>NCT03490942</td>\n      <td>Glucagon Infusion in T1D Patients With Recurre...</td>\n      <td>25/05/2020</td>\n      <td>Journal of emergency nursing</td>\n      <td>trials</td>\n    </tr>\n    <tr>\n      <th>7</th>\n      <td>NCT04188184</td>\n      <td>Tranexamic Acid Versus Epinephrine During Expl...</td>\n      <td>27 April 2020</td>\n      <td>Journal of emergency nursing\\xc3\\x28</td>\n      <td>trials</td>\n    </tr>\n  </tbody>\n</table>\n</div>"
          },
          "metadata": {}
        }
      ],
      "execution_count": 10,
      "metadata": {
        "jupyter": {
          "source_hidden": false,
          "outputs_hidden": false
        },
        "nteract": {
          "transient": {
            "deleting": false
          }
        },
        "gather": {
          "logged": 1669651950665
        }
      }
    },
    {
      "cell_type": "code",
      "source": [
        "def listLiaison(source, target):\r\n",
        "    from re import search\r\n",
        "\r\n",
        "    liste = []\r\n",
        "\r\n",
        "    for i in source:\r\n",
        "        for j, row in target.iterrows():\r\n",
        "            match = search(i.upper(), row.title.upper())\r\n",
        "\r\n",
        "            if match:\r\n",
        "                liste.append({'drug' : i, 'id' : row.id, 'title' : row.title, 'date' : row.date, 'journal' : row.journal, 'source' : row.source})\r\n",
        "    return liste"
      ],
      "outputs": [],
      "execution_count": 11,
      "metadata": {
        "jupyter": {
          "source_hidden": false,
          "outputs_hidden": false
        },
        "nteract": {
          "transient": {
            "deleting": false
          }
        },
        "gather": {
          "logged": 1669651950810
        }
      }
    },
    {
      "cell_type": "code",
      "source": [
        "liste_match = listLiaison(source, target)"
      ],
      "outputs": [],
      "execution_count": 12,
      "metadata": {
        "jupyter": {
          "source_hidden": false,
          "outputs_hidden": false
        },
        "nteract": {
          "transient": {
            "deleting": false
          }
        },
        "gather": {
          "logged": 1669651950953
        }
      }
    },
    {
      "cell_type": "code",
      "source": [
        "liste_publication = liste_match[liste_match]"
      ],
      "outputs": [
        {
          "output_type": "error",
          "ename": "TypeError",
          "evalue": "list indices must be integers or slices, not list",
          "traceback": [
            "\u001b[0;31m---------------------------------------------------------------------------\u001b[0m",
            "\u001b[0;31mTypeError\u001b[0m                                 Traceback (most recent call last)",
            "Input \u001b[0;32mIn [13]\u001b[0m, in \u001b[0;36m<cell line: 1>\u001b[0;34m()\u001b[0m\n\u001b[0;32m----> 1\u001b[0m liste_publication \u001b[38;5;241m=\u001b[39m \u001b[43mliste_match\u001b[49m\u001b[43m[\u001b[49m\u001b[43mliste_match\u001b[49m\u001b[43m]\u001b[49m\n",
            "\u001b[0;31mTypeError\u001b[0m: list indices must be integers or slices, not list"
          ]
        }
      ],
      "execution_count": 13,
      "metadata": {
        "jupyter": {
          "source_hidden": false,
          "outputs_hidden": false
        },
        "nteract": {
          "transient": {
            "deleting": false
          }
        },
        "gather": {
          "logged": 1669651951089
        }
      }
    },
    {
      "cell_type": "code",
      "source": [
        "import json\r\n",
        "\r\n",
        "with open('data.json', 'w') as f:\r\n",
        "    json.dump(liste_match, f)"
      ],
      "outputs": [],
      "execution_count": null,
      "metadata": {
        "jupyter": {
          "source_hidden": false,
          "outputs_hidden": false
        },
        "nteract": {
          "transient": {
            "deleting": false
          }
        },
        "gather": {
          "logged": 1669651951245
        }
      }
    },
    {
      "cell_type": "markdown",
      "source": [
        "# 4. Traitement ad-hoc\r\n",
        "\r\n",
        "Vous devez aussi mettre en place (hors de la data pipeline, vous pouvez considérer que c’est une partie annexe) une feature permettant de répondre à la problématique suivante :\r\n",
        "- Extraire depuis le json produit par la data pipeline le nom du journal qui mentionne le plus de médicaments différents ?"
      ],
      "metadata": {
        "nteract": {
          "transient": {
            "deleting": false
          }
        }
      }
    },
    {
      "cell_type": "code",
      "source": [
        "data = pd.read_json('data.json')"
      ],
      "outputs": [],
      "execution_count": null,
      "metadata": {
        "jupyter": {
          "source_hidden": false,
          "outputs_hidden": false
        },
        "nteract": {
          "transient": {
            "deleting": false
          }
        },
        "gather": {
          "logged": 1669651951259
        }
      }
    },
    {
      "cell_type": "code",
      "source": [
        "data_count = data.groupby('journal').drug.nunique()"
      ],
      "outputs": [],
      "execution_count": null,
      "metadata": {
        "jupyter": {
          "source_hidden": false,
          "outputs_hidden": false
        },
        "nteract": {
          "transient": {
            "deleting": false
          }
        },
        "gather": {
          "logged": 1669651951272
        }
      }
    },
    {
      "cell_type": "code",
      "source": [
        "df_grouped = pd.DataFrame(dict(journal = data_count.index, nombre = data_count.values))\r\n",
        "df_grouped.sort_values(by=['nombre'], ascending=False)"
      ],
      "outputs": [],
      "execution_count": null,
      "metadata": {
        "jupyter": {
          "source_hidden": false,
          "outputs_hidden": false
        },
        "nteract": {
          "transient": {
            "deleting": false
          }
        },
        "gather": {
          "logged": 1669651951284
        }
      }
    }
  ],
  "metadata": {
    "kernelspec": {
      "name": "python38-azureml",
      "language": "python",
      "display_name": "Python 3.8 - AzureML"
    },
    "language_info": {
      "name": "python",
      "version": "3.8.13",
      "mimetype": "text/x-python",
      "codemirror_mode": {
        "name": "ipython",
        "version": 3
      },
      "pygments_lexer": "ipython3",
      "nbconvert_exporter": "python",
      "file_extension": ".py"
    },
    "kernel_info": {
      "name": "python38-azureml"
    },
    "nteract": {
      "version": "nteract-front-end@1.0.0"
    },
    "microsoft": {
      "host": {
        "AzureML": {
          "notebookHasBeenCompleted": true
        }
      }
    }
  },
  "nbformat": 4,
  "nbformat_minor": 2
}