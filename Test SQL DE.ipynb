{
  "cells": [
    {
      "cell_type": "markdown",
      "source": [
        "# II) SQL\r\n",
        "\r\n",
        "Objectif : Réaliser des requêtes SQL claires et facilement compréhensibles.\r\n",
        "\r\n",
        "## 1. Les données\r\n",
        "\r\n",
        "Nous avons les tables suivantes :\r\n",
        "\r\n",
        "**TRANSACTIONS**\r\n",
        "\r\n",
        "Cette table contient des données transactionnelles avec les infos suivantes :\r\n",
        "- date : date à laquelle la commande a été passée\r\n",
        "- order_id : identifiant unique de la commande\r\n",
        "- client_id : identifiant unique du client\r\n",
        "- prod_id : identifiant unique du produit acheté\r\n",
        "- prod_price : prix unitaire du produit\r\n",
        "- prod_qty : quantité de produit achetée\r\n",
        "\r\n",
        "**PRODUCT_NOMENCLATURE**\r\n",
        "\r\n",
        "Cette table contient le référentiel produit c’est à dire les méta-données du produit. On y trouve les infos suivantes :\r\n",
        "- product_id : identifiant unique du produit\r\n",
        "- product_type : type de produit (DECO ou MEUBLE)\r\n",
        "- product_name : le nom du produit"
      ],
      "metadata": {
        "nteract": {
          "transient": {
            "deleting": false
          }
        }
      }
    },
    {
      "cell_type": "markdown",
      "source": [
        "## 2. Première partie du test\r\n",
        "\r\n",
        "Je vous propose de commencer par réaliser une requête SQL simple permettant de trouver le chiffre d’affaires (le montant total des ventes), jour par jour, du 1er janvier 2019 au 31 décembre 2019. Le résultat sera trié sur la date à laquelle la commande a été passée. Je rappelle que la requête doit être claire : n’hésitez pas à utiliser les mot clefs AS permettant de nommer les champs dans SQL."
      ],
      "metadata": {
        "nteract": {
          "transient": {
            "deleting": false
          }
        }
      }
    },
    {
      "cell_type": "code",
      "source": [
        "SELECT\r\n",
        "\tdate\r\n",
        "\t,SUM(prod_price * prod_qty) AS ventes\r\n",
        "FROM\r\n",
        "    TRANSACTIONS\r\n",
        "WHERE\r\n",
        "\tdate BETWEEN '20190101' AND '20191231'\r\n",
        "GROUP BY\r\n",
        "\tdate\r\n",
        "ORDER BY\r\n",
        "\tdate ASC"
      ],
      "outputs": [],
      "execution_count": null,
      "metadata": {
        "jupyter": {
          "source_hidden": false,
          "outputs_hidden": false
        },
        "nteract": {
          "transient": {
            "deleting": false
          }
        }
      }
    },
    {
      "cell_type": "markdown",
      "source": [
        "## 3. Seconde partie du test\r\n",
        "\r\n",
        "Réaliser une requête un peu plus complexe qui permet de déterminer, par client et sur la période allant du 1er janvier 2019 au 31 décembre 2019, les ventes meuble et déco réalisées.\r\n",
        "Echantillon des résultats de la requête"
      ],
      "metadata": {
        "nteract": {
          "transient": {
            "deleting": false
          }
        }
      }
    },
    {
      "cell_type": "code",
      "source": [
        "SELECT\r\n",
        "\ttrs.client_id\r\n",
        "\t,SUM(CASE prd.product_type WHEN 'MEUBLE' THEN trs.prod_price * trs.prod_qty END) AS ventes_meuble\r\n",
        "\t,SUM(CASE prd.product_type WHEN 'DECO' THEN trs.prod_price * trs.prod_qty END) AS ventes_deco\r\n",
        "FROM\r\n",
        "    TRANSACTIONS AS trs\r\n",
        "JOIN\r\n",
        "    PRODUCT_NOMENCLATURE AS prd\r\n",
        "\tON\tprd.product_id = trs.prod_id\r\n",
        "WHERE\r\n",
        "\ttrs.date BETWEEN '20190101' AND '20191231'\r\n",
        "GROUP BY\r\n",
        "\ttrs.client_id"
      ],
      "outputs": [],
      "execution_count": null,
      "metadata": {
        "jupyter": {
          "source_hidden": false,
          "outputs_hidden": false
        },
        "nteract": {
          "transient": {
            "deleting": false
          }
        }
      }
    }
  ],
  "metadata": {
    "kernelspec": {
      "name": "python38-azureml",
      "language": "python",
      "display_name": "Python 3.8 - AzureML"
    },
    "language_info": {
      "name": "python",
      "version": "3.8.13",
      "mimetype": "text/x-python",
      "codemirror_mode": {
        "name": "ipython",
        "version": 3
      },
      "pygments_lexer": "ipython3",
      "nbconvert_exporter": "python",
      "file_extension": ".py"
    },
    "kernel_info": {
      "name": "python38-azureml"
    },
    "nteract": {
      "version": "nteract-front-end@1.0.0"
    }
  },
  "nbformat": 4,
  "nbformat_minor": 2
}